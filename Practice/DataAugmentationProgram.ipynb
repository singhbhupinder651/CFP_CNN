{
 "cells": [
  {
   "attachments": {},
   "cell_type": "markdown",
   "metadata": {},
   "source": [
    "@Author: Bhupinder Singh\n",
    "\n",
    "@Date: 26-12-2022\n",
    "\n",
    "@Last Modified by: Bhupinder Singh\n",
    "\n",
    "@Last Modified date: 26-12-2022\n",
    "\n",
    "@Title: Data Augmentation"
   ]
  },
  {
   "attachments": {},
   "cell_type": "markdown",
   "metadata": {},
   "source": [
    "Data Augmentation : creating multiple images by applying data augmentation steps on same image and saving the created images in preview directory"
   ]
  },
  {
   "cell_type": "code",
   "execution_count": 28,
   "metadata": {},
   "outputs": [],
   "source": [
    "from keras.preprocessing.image import ImageDataGenerator \n",
    "from keras.utils.image_utils import img_to_array\n",
    "import glob\n",
    "import cv2\n",
    "\n",
    "datagen = ImageDataGenerator(\n",
    "\t\trotation_range = 40,\n",
    "\t\tshear_range = 0.2,\n",
    "\t\tzoom_range = 0.2,\n",
    "\t\thorizontal_flip = True,\n",
    "\t\tbrightness_range = (0.5, 1.5))\n",
    "\t\n",
    "\n",
    "for file in glob.glob(\"dataAugmentation/*.jpg\"):\n",
    "\n",
    "    img = cv2.imread(file)\n",
    "    x = img_to_array(img)\n",
    "    x = x.reshape((1, ) + x.shape)\n",
    "\n",
    "    # Generating and saving 15 augmented samples for each image\n",
    "    i = 0\n",
    "    for batch in datagen.flow(x, batch_size = 1,\n",
    "                            save_to_dir ='preview',\n",
    "                            save_prefix ='image', save_format ='jpeg'):\n",
    "        i += 1\n",
    "        if i > 14:\n",
    "            break"
   ]
  }
 ],
 "metadata": {
  "kernelspec": {
   "display_name": "Python 3",
   "language": "python",
   "name": "python3"
  },
  "language_info": {
   "codemirror_mode": {
    "name": "ipython",
    "version": 3
   },
   "file_extension": ".py",
   "mimetype": "text/x-python",
   "name": "python",
   "nbconvert_exporter": "python",
   "pygments_lexer": "ipython3",
   "version": "3.11.0"
  },
  "orig_nbformat": 4,
  "vscode": {
   "interpreter": {
    "hash": "c261aea317cc0286b3b3261fbba9abdec21eaa57589985bb7a274bf54d6cc0a7"
   }
  }
 },
 "nbformat": 4,
 "nbformat_minor": 2
}
