{
 "cells": [
  {
   "attachments": {},
   "cell_type": "markdown",
   "metadata": {},
   "source": [
    "@Author: Bhupinder Singh\n",
    "\n",
    "@Date: 23-02-2023\n",
    "\n",
    "@Last Modified by: Bhupinder Singh\n",
    "\n",
    "@Last Modified date: 24-02-2023\n",
    "\n",
    "@Title: CNN model for binary class classification"
   ]
  },
  {
   "cell_type": "code",
   "execution_count": 51,
   "metadata": {},
   "outputs": [],
   "source": [
    "import tensorflow as tf\n",
    "from tensorflow import keras\n",
    "from keras import Sequential\n",
    "from keras import layers\n",
    "from keras.layers import Dense,Conv2D,MaxPooling2D,Flatten,BatchNormalization,Dropout,Input\n",
    "from keras.models import Model"
   ]
  },
  {
   "attachments": {},
   "cell_type": "markdown",
   "metadata": {},
   "source": [
    "Data Augmentation"
   ]
  },
  {
   "cell_type": "code",
   "execution_count": 52,
   "metadata": {},
   "outputs": [],
   "source": [
    "from keras.preprocessing.image import ImageDataGenerator\n",
    "train_datagen = ImageDataGenerator(rescale = 1./255,\n",
    "                                   shear_range = 0.2,\n",
    "                                   zoom_range = 0.2,\n",
    "                                   horizontal_flip = True)"
   ]
  },
  {
   "attachments": {},
   "cell_type": "markdown",
   "metadata": {},
   "source": [
    "Reading the Dataset"
   ]
  },
  {
   "cell_type": "code",
   "execution_count": 53,
   "metadata": {},
   "outputs": [
    {
     "name": "stdout",
     "output_type": "stream",
     "text": [
      "Found 8000 images belonging to 2 classes.\n",
      "Found 2000 images belonging to 2 classes.\n"
     ]
    }
   ],
   "source": [
    "# Generating images for the Test set\n",
    "test_datagen = ImageDataGenerator(rescale = 1./255)\n",
    "# Creating training set\n",
    "train_ds = train_datagen.flow_from_directory('dataset/training_set',\n",
    "                                                 target_size = (200, 200),\n",
    "                                                 batch_size = 32,\n",
    "                                                 class_mode = 'binary')\n",
    "# Creating the Test set\n",
    "validation_ds = test_datagen.flow_from_directory('dataset/test_set',\n",
    "                                            target_size = (200, 200),\n",
    "                                            batch_size = 32,\n",
    "                                            class_mode = 'binary')"
   ]
  },
  {
   "attachments": {},
   "cell_type": "markdown",
   "metadata": {},
   "source": [
    "### Creation Of cnn model"
   ]
  },
  {
   "cell_type": "code",
   "execution_count": 56,
   "metadata": {},
   "outputs": [],
   "source": [
    "\n",
    " \n",
    "# Build the model using the functional API\n",
    "# input layer\n",
    "i = Input(shape=(200,200,3))\n",
    "x = Conv2D(32, (3, 3), activation='relu', padding='same')(i)\n",
    "x = BatchNormalization()(x)\n",
    "x = Conv2D(32, (3, 3), activation='relu', padding='same')(x)\n",
    "x = BatchNormalization()(x)\n",
    "x = MaxPooling2D((2, 2))(x)\n",
    " \n",
    "x = Conv2D(64, (3, 3), activation='relu', padding='same')(x)\n",
    "x = BatchNormalization()(x)\n",
    "x = Conv2D(64, (3, 3), activation='relu', padding='same')(x)\n",
    "x = BatchNormalization()(x)\n",
    "x = MaxPooling2D((2, 2))(x)\n",
    "\n",
    " \n",
    "x = Conv2D(128, (3, 3), activation='relu', padding='same')(x)\n",
    "x = BatchNormalization()(x)\n",
    "x = Conv2D(128, (3, 3), activation='relu', padding='same')(x)\n",
    "x = BatchNormalization()(x)\n",
    "x = MaxPooling2D((2, 2))(x)\n",
    " \n",
    "x = Flatten()(x)\n",
    "x = Dropout(0.2)(x)\n",
    " \n",
    "# Hidden layer\n",
    "x = Dense(1024, activation='relu')(x)\n",
    "x = Dropout(0.2)(x)\n",
    " \n",
    "# last hidden layer i.e.. output layer\n",
    "x = Dense(1, activation='sigmoid')(x)\n",
    " \n",
    "model = Model(i, x)\n",
    " \n"
   ]
  },
  {
   "cell_type": "code",
   "execution_count": 58,
   "metadata": {},
   "outputs": [
    {
     "name": "stdout",
     "output_type": "stream",
     "text": [
      "Model: \"model\"\n",
      "_________________________________________________________________\n",
      " Layer (type)                Output Shape              Param #   \n",
      "=================================================================\n",
      " input_1 (InputLayer)        [(None, 200, 200, 3)]     0         \n",
      "                                                                 \n",
      " conv2d_22 (Conv2D)          (None, 200, 200, 32)      896       \n",
      "                                                                 \n",
      " batch_normalization_17 (Bat  (None, 200, 200, 32)     128       \n",
      " chNormalization)                                                \n",
      "                                                                 \n",
      " conv2d_23 (Conv2D)          (None, 200, 200, 32)      9248      \n",
      "                                                                 \n",
      " batch_normalization_18 (Bat  (None, 200, 200, 32)     128       \n",
      " chNormalization)                                                \n",
      "                                                                 \n",
      " max_pooling2d_22 (MaxPoolin  (None, 100, 100, 32)     0         \n",
      " g2D)                                                            \n",
      "                                                                 \n",
      " conv2d_24 (Conv2D)          (None, 100, 100, 64)      18496     \n",
      "                                                                 \n",
      " batch_normalization_19 (Bat  (None, 100, 100, 64)     256       \n",
      " chNormalization)                                                \n",
      "                                                                 \n",
      " conv2d_25 (Conv2D)          (None, 100, 100, 64)      36928     \n",
      "                                                                 \n",
      " batch_normalization_20 (Bat  (None, 100, 100, 64)     256       \n",
      " chNormalization)                                                \n",
      "                                                                 \n",
      " max_pooling2d_23 (MaxPoolin  (None, 50, 50, 64)       0         \n",
      " g2D)                                                            \n",
      "                                                                 \n",
      " conv2d_26 (Conv2D)          (None, 50, 50, 128)       73856     \n",
      "                                                                 \n",
      " batch_normalization_21 (Bat  (None, 50, 50, 128)      512       \n",
      " chNormalization)                                                \n",
      "                                                                 \n",
      " conv2d_27 (Conv2D)          (None, 50, 50, 128)       147584    \n",
      "                                                                 \n",
      " batch_normalization_22 (Bat  (None, 50, 50, 128)      512       \n",
      " chNormalization)                                                \n",
      "                                                                 \n",
      " max_pooling2d_24 (MaxPoolin  (None, 25, 25, 128)      0         \n",
      " g2D)                                                            \n",
      "                                                                 \n",
      " flatten_6 (Flatten)         (None, 80000)             0         \n",
      "                                                                 \n",
      " dropout_12 (Dropout)        (None, 80000)             0         \n",
      "                                                                 \n",
      " dense_23 (Dense)            (None, 1024)              81921024  \n",
      "                                                                 \n",
      " dropout_13 (Dropout)        (None, 1024)              0         \n",
      "                                                                 \n",
      " dense_24 (Dense)            (None, 1)                 1025      \n",
      "                                                                 \n",
      "=================================================================\n",
      "Total params: 82,210,849\n",
      "Trainable params: 82,209,953\n",
      "Non-trainable params: 896\n",
      "_________________________________________________________________\n"
     ]
    }
   ],
   "source": [
    "model.summary()"
   ]
  },
  {
   "cell_type": "code",
   "execution_count": 59,
   "metadata": {},
   "outputs": [],
   "source": [
    "model.compile(optimizer='adam',loss='binary_crossentropy',metrics=['accuracy'])"
   ]
  },
  {
   "cell_type": "code",
   "execution_count": 60,
   "metadata": {},
   "outputs": [
    {
     "name": "stdout",
     "output_type": "stream",
     "text": [
      "Epoch 1/13\n",
      "250/250 [==============================] - 976s 4s/step - loss: 3.1315 - accuracy: 0.5994 - val_loss: 1.2190 - val_accuracy: 0.5010\n",
      "Epoch 2/13\n",
      "250/250 [==============================] - 872s 3s/step - loss: 0.5975 - accuracy: 0.6776 - val_loss: 0.7785 - val_accuracy: 0.6370\n",
      "Epoch 3/13\n",
      "250/250 [==============================] - 848s 3s/step - loss: 0.5471 - accuracy: 0.7199 - val_loss: 0.5621 - val_accuracy: 0.7280\n",
      "Epoch 4/13\n",
      "250/250 [==============================] - 847s 3s/step - loss: 0.5170 - accuracy: 0.7423 - val_loss: 0.7659 - val_accuracy: 0.6380\n",
      "Epoch 5/13\n",
      "250/250 [==============================] - 850s 3s/step - loss: 0.4992 - accuracy: 0.7628 - val_loss: 0.5842 - val_accuracy: 0.7300\n",
      "Epoch 6/13\n",
      "250/250 [==============================] - 839s 3s/step - loss: 0.4761 - accuracy: 0.7740 - val_loss: 1.9240 - val_accuracy: 0.5805\n",
      "Epoch 7/13\n",
      "250/250 [==============================] - 845s 3s/step - loss: 0.4805 - accuracy: 0.7763 - val_loss: 0.4988 - val_accuracy: 0.7690\n",
      "Epoch 8/13\n",
      "250/250 [==============================] - 837s 3s/step - loss: 0.4396 - accuracy: 0.7960 - val_loss: 0.5535 - val_accuracy: 0.7290\n",
      "Epoch 9/13\n",
      "250/250 [==============================] - 836s 3s/step - loss: 0.4339 - accuracy: 0.8010 - val_loss: 0.4987 - val_accuracy: 0.7570\n",
      "Epoch 10/13\n",
      "250/250 [==============================] - 21222s 85s/step - loss: 0.4303 - accuracy: 0.8041 - val_loss: 0.6114 - val_accuracy: 0.7405\n",
      "Epoch 11/13\n",
      "250/250 [==============================] - 1022s 4s/step - loss: 0.4237 - accuracy: 0.8127 - val_loss: 2.2457 - val_accuracy: 0.5335\n",
      "Epoch 12/13\n",
      "250/250 [==============================] - 1117s 4s/step - loss: 0.5416 - accuracy: 0.7571 - val_loss: 0.7601 - val_accuracy: 0.6850\n",
      "Epoch 13/13\n",
      "250/250 [==============================] - 973s 4s/step - loss: 0.4146 - accuracy: 0.8120 - val_loss: 0.4534 - val_accuracy: 0.7955\n"
     ]
    }
   ],
   "source": [
    "history = model.fit(train_ds,epochs=13,validation_data=validation_ds)"
   ]
  },
  {
   "attachments": {},
   "cell_type": "markdown",
   "metadata": {},
   "source": [
    "### Training and validation accuracy curve"
   ]
  },
  {
   "cell_type": "code",
   "execution_count": 61,
   "metadata": {},
   "outputs": [
    {
     "data": {
      "image/png": "[encoded data removed]",
      "text/plain": [
       "<Figure size 640x480 with 1 Axes>"
      ]
     },
     "metadata": {},
     "output_type": "display_data"
    }
   ],
   "source": [
    "import matplotlib.pyplot as plt\n",
    "\n",
    "plt.plot(history.history['accuracy'],color='red',label='train')\n",
    "plt.plot(history.history['val_accuracy'],color='blue',label='validation')\n",
    "plt.legend()\n",
    "plt.show()"
   ]
  }
 ],
 "metadata": {
  "kernelspec": {
   "display_name": "Python 3",
   "language": "python",
   "name": "python3"
  },
  "language_info": {
   "codemirror_mode": {
    "name": "ipython",
    "version": 3
   },
   "file_extension": ".py",
   "mimetype": "text/x-python",
   "name": "python",
   "nbconvert_exporter": "python",
   "pygments_lexer": "ipython3",
   "version": "3.11.0"
  },
  "orig_nbformat": 4,
  "vscode": {
   "interpreter": {
    "hash": "c261aea317cc0286b3b3261fbba9abdec21eaa57589985bb7a274bf54d6cc0a7"
   }
  }
 },
 "nbformat": 4,
 "nbformat_minor": 2
}
